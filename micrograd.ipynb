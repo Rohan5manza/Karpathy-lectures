{
  "nbformat": 4,
  "nbformat_minor": 0,
  "metadata": {
    "colab": {
      "provenance": []
    },
    "kernelspec": {
      "name": "python3",
      "display_name": "Python 3"
    },
    "language_info": {
      "name": "python"
    }
  },
  "cells": [
    {
      "cell_type": "code",
      "execution_count": 1,
      "metadata": {
        "id": "5Smu5B8QYin-"
      },
      "outputs": [],
      "source": [
        "import math\n",
        "import numpy as np\n",
        "import matplotlib.pyplot as plt\n",
        "%matplotlib inline\n",
        "\n"
      ]
    },
    {
      "cell_type": "code",
      "source": [
        "def f(x):\n",
        "  return 3*x**3 -4*x**2 +5*x -5"
      ],
      "metadata": {
        "id": "AhRFMOOlYva-"
      },
      "execution_count": 2,
      "outputs": []
    },
    {
      "cell_type": "code",
      "source": [
        "f(10.0)"
      ],
      "metadata": {
        "colab": {
          "base_uri": "https://localhost:8080/"
        },
        "id": "FyHxKsHdZAqu",
        "outputId": "caa20423-8b0b-4f92-e3ac-5069f78a6ba9"
      },
      "execution_count": 3,
      "outputs": [
        {
          "output_type": "execute_result",
          "data": {
            "text/plain": [
              "2645.0"
            ]
          },
          "metadata": {},
          "execution_count": 3
        }
      ]
    },
    {
      "cell_type": "code",
      "source": [
        "xs=np.arange(-10,20,1)\n",
        "ys=f(xs)\n",
        "xs\n",
        "ys"
      ],
      "metadata": {
        "colab": {
          "base_uri": "https://localhost:8080/"
        },
        "id": "OU8L9JitZK62",
        "outputId": "fac93daa-b9a2-42d9-c052-0997b35d7825"
      },
      "execution_count": 6,
      "outputs": [
        {
          "output_type": "execute_result",
          "data": {
            "text/plain": [
              "array([-3455, -2561, -1837, -1265,  -827,  -505,  -281,  -137,   -55,\n",
              "         -17,    -5,    -1,    13,    55,   143,   295,   529,   863,\n",
              "        1315,  1903,  2645,  3559,  4663,  5975,  7513,  9295, 11339,\n",
              "       13663, 16285, 19223])"
            ]
          },
          "metadata": {},
          "execution_count": 6
        }
      ]
    },
    {
      "cell_type": "code",
      "source": [
        "\n",
        "plt.plot(xs,ys)\n"
      ],
      "metadata": {
        "colab": {
          "base_uri": "https://localhost:8080/",
          "height": 447
        },
        "id": "iSPA-qltZwxv",
        "outputId": "84c8180a-c307-47c5-d942-aeb1f1b7a712"
      },
      "execution_count": 7,
      "outputs": [
        {
          "output_type": "execute_result",
          "data": {
            "text/plain": [
              "[<matplotlib.lines.Line2D at 0x7a5cc72e37c0>]"
            ]
          },
          "metadata": {},
          "execution_count": 7
        },
        {
          "output_type": "display_data",
          "data": {
            "text/plain": [
              "<Figure size 640x480 with 1 Axes>"
            ],
            "image/png": "[encoded data removed]"
          },
          "metadata": {}
        }
      ]
    },
    {
      "cell_type": "code",
      "source": [
        "h=0.0000000001\n",
        "x=10.0\n",
        "\n",
        "(f(x+h)-f(x))/h"
      ],
      "metadata": {
        "colab": {
          "base_uri": "https://localhost:8080/"
        },
        "id": "ihOpw494a3gc",
        "outputId": "a3c4806d-3ef2-4388-dc29-b7a34ac30e67"
      },
      "execution_count": 12,
      "outputs": [
        {
          "output_type": "execute_result",
          "data": {
            "text/plain": [
              "825.0026439782232"
            ]
          },
          "metadata": {},
          "execution_count": 12
        }
      ]
    },
    {
      "cell_type": "code",
      "source": [
        "class Value:\n",
        "  def __init__(self,data, _children=(), _op='',label=''):\n",
        "    self.data= data\n",
        "    self._prev= set(_children)\n",
        "    self._op=_op\n",
        "    self.grad=0.0\n",
        "    self.label=label\n",
        "\n",
        "  def __repr__(self):\n",
        "    return f\"Value(data={self.data})\"\n",
        "\n",
        "  def __add__(self,other):\n",
        "    out=Value(self.data+other.data,(self,other),'+')\n",
        "    return out\n",
        "\n",
        "\n",
        "  def __mul__(self,other):\n",
        "    out=Value(self.data * other.data,(self,other),'*')\n",
        "    return out\n",
        "\n",
        "  def tanh(self):  #activation function\n",
        "    x=self.data\n",
        "    t=(math.exp(2*x)-1)/(math.exp(2*x)+1)\n",
        "    out=Value(t, (self, ), 'tanh')\n",
        "    return out\n",
        "\n",
        "a=Value(2.0,label='a')\n",
        "b=Value(3.0,label='b')\n",
        "c=Value(10.0,label='c')\n",
        "e=a+b\n",
        "e.label='e'\n",
        "d=e+c\n",
        "d.label='d'\n",
        "f=Value(2.0,label='f')\n",
        "L=d+f\n",
        "L.label='L'"
      ],
      "metadata": {
        "id": "viIlcLYbdEMR"
      },
      "execution_count": 50,
      "outputs": []
    },
    {
      "cell_type": "code",
      "source": [
        "\n",
        "from graphviz import Digraph\n",
        "def trace(root):\n",
        "    nodes, edges = set(), set()\n",
        "    def build(v):\n",
        "        if v not in nodes:\n",
        "            nodes.add(v)\n",
        "            for child in v._prev:\n",
        "                edges.add((child, v))\n",
        "                build(child)\n",
        "    build(root)\n",
        "    return nodes, edges\n",
        "\n",
        "def draw_dot(root, format='svg', rankdir='LR'):\n",
        "    \"\"\"\n",
        "    format: png | svg | ...\n",
        "    rankdir: TB (top to bottom graph) | LR (left to right)\n",
        "    \"\"\"\n",
        "    assert rankdir in ['LR', 'TB']\n",
        "    nodes, edges = trace(root)\n",
        "    dot = Digraph(format=format, graph_attr={'rankdir': rankdir}) #, node_attr={'rankdir': 'TB'})\n",
        "\n",
        "    for n in nodes:\n",
        "        dot.node(name=str(id(n)), label = \"{%s | data %.4f | grad %.4f }\" % (n.label,n.data, n.grad), shape='record')\n",
        "        if n._op:\n",
        "            dot.node(name=str(id(n)) + n._op, label=n._op)\n",
        "            dot.edge(str(id(n)) + n._op, str(id(n)))\n",
        "\n",
        "    for n1, n2 in edges:\n",
        "        dot.edge(str(id(n1)), str(id(n2)) + n2._op)\n",
        "\n",
        "    return dot\n",
        "\n",
        "draw_dot(L)"
      ],
      "metadata": {
        "colab": {
          "base_uri": "https://localhost:8080/",
          "height": 247
        },
        "id": "BYtggM3WnGJG",
        "outputId": "b5a0ce1a-bdc1-48ab-ce42-52811ac78699"
      },
      "execution_count": 47,
      "outputs": [
        {
          "output_type": "execute_result",
          "data": {
            "image/svg+xml": "<?xml version=\"1.0\" encoding=\"UTF-8\" standalone=\"no\"?>\n<!DOCTYPE svg PUBLIC \"-//W3C//DTD SVG 1.1//EN\"\n \"http://www.w3.org/Graphics/SVG/1.1/DTD/svg11.dtd\">\n<!-- Generated by graphviz version 2.43.0 (0)\n -->\n<!-- Title: %3 Pages: 1 -->\n<svg width=\"1149pt\" height=\"154pt\"\n viewBox=\"0.00 0.00 1149.00 154.00\" xmlns=\"http://www.w3.org/2000/svg\" xmlns:xlink=\"http://www.w3.org/1999/xlink\">\n<g id=\"graph0\" class=\"graph\" transform=\"scale(1 1) rotate(0) translate(4 150)\">\n<title>%3</title>\n<polygon fill=\"white\" stroke=\"transparent\" points=\"-4,4 -4,-150 1145,-150 1145,4 -4,4\"/>\n<!-- 134538692879904 -->\n<g id=\"node1\" class=\"node\">\n<title>134538692879904</title>\n<polygon fill=\"none\" stroke=\"black\" points=\"633.5,-109.5 633.5,-145.5 816.5,-145.5 816.5,-109.5 633.5,-109.5\"/>\n<text text-anchor=\"middle\" x=\"644\" y=\"-123.8\" font-family=\"Times,serif\" font-size=\"14.00\">f</text>\n<polyline fill=\"none\" stroke=\"black\" points=\"654.5,-109.5 654.5,-145.5 \"/>\n<text text-anchor=\"middle\" x=\"694.5\" y=\"-123.8\" font-family=\"Times,serif\" font-size=\"14.00\">data 2.0000</text>\n<polyline fill=\"none\" stroke=\"black\" points=\"734.5,-109.5 734.5,-145.5 \"/>\n<text text-anchor=\"middle\" x=\"775.5\" y=\"-123.8\" font-family=\"Times,serif\" font-size=\"14.00\">grad 0.0000</text>\n</g>\n<!-- 134538694210416+ -->\n<g id=\"node10\" class=\"node\">\n<title>134538694210416+</title>\n<ellipse fill=\"none\" stroke=\"black\" cx=\"884\" cy=\"-99.5\" rx=\"27\" ry=\"18\"/>\n<text text-anchor=\"middle\" x=\"884\" y=\"-95.8\" font-family=\"Times,serif\" font-size=\"14.00\">+</text>\n</g>\n<!-- 134538692879904&#45;&gt;134538694210416+ -->\n<g id=\"edge4\" class=\"edge\">\n<title>134538692879904&#45;&gt;134538694210416+</title>\n<path fill=\"none\" stroke=\"black\" d=\"M816.87,-111.29C827.71,-109.36 838.23,-107.48 847.57,-105.82\"/>\n<polygon fill=\"black\" stroke=\"black\" points=\"848.34,-109.24 857.57,-104.04 847.11,-102.35 848.34,-109.24\"/>\n</g>\n<!-- 134538692885088 -->\n<g id=\"node2\" class=\"node\">\n<title>134538692885088</title>\n<polygon fill=\"none\" stroke=\"black\" points=\"311,-82.5 311,-118.5 503,-118.5 503,-82.5 311,-82.5\"/>\n<text text-anchor=\"middle\" x=\"322.5\" y=\"-96.8\" font-family=\"Times,serif\" font-size=\"14.00\">c</text>\n<polyline fill=\"none\" stroke=\"black\" points=\"334,-82.5 334,-118.5 \"/>\n<text text-anchor=\"middle\" x=\"377.5\" y=\"-96.8\" font-family=\"Times,serif\" font-size=\"14.00\">data 10.0000</text>\n<polyline fill=\"none\" stroke=\"black\" points=\"421,-82.5 421,-118.5 \"/>\n<text text-anchor=\"middle\" x=\"462\" y=\"-96.8\" font-family=\"Times,serif\" font-size=\"14.00\">grad 0.0000</text>\n</g>\n<!-- 134538695106208+ -->\n<g id=\"node4\" class=\"node\">\n<title>134538695106208+</title>\n<ellipse fill=\"none\" stroke=\"black\" cx=\"566\" cy=\"-72.5\" rx=\"27\" ry=\"18\"/>\n<text text-anchor=\"middle\" x=\"566\" y=\"-68.8\" font-family=\"Times,serif\" font-size=\"14.00\">+</text>\n</g>\n<!-- 134538692885088&#45;&gt;134538695106208+ -->\n<g id=\"edge5\" class=\"edge\">\n<title>134538692885088&#45;&gt;134538695106208+</title>\n<path fill=\"none\" stroke=\"black\" d=\"M503.4,-83.49C512.69,-81.83 521.64,-80.23 529.71,-78.79\"/>\n<polygon fill=\"black\" stroke=\"black\" points=\"530.53,-82.2 539.76,-77 529.31,-75.31 530.53,-82.2\"/>\n</g>\n<!-- 134538695106208 -->\n<g id=\"node3\" class=\"node\">\n<title>134538695106208</title>\n<polygon fill=\"none\" stroke=\"black\" points=\"629,-54.5 629,-90.5 821,-90.5 821,-54.5 629,-54.5\"/>\n<text text-anchor=\"middle\" x=\"640.5\" y=\"-68.8\" font-family=\"Times,serif\" font-size=\"14.00\">d</text>\n<polyline fill=\"none\" stroke=\"black\" points=\"652,-54.5 652,-90.5 \"/>\n<text text-anchor=\"middle\" x=\"695.5\" y=\"-68.8\" font-family=\"Times,serif\" font-size=\"14.00\">data 15.0000</text>\n<polyline fill=\"none\" stroke=\"black\" points=\"739,-54.5 739,-90.5 \"/>\n<text text-anchor=\"middle\" x=\"780\" y=\"-68.8\" font-family=\"Times,serif\" font-size=\"14.00\">grad 0.0000</text>\n</g>\n<!-- 134538695106208&#45;&gt;134538694210416+ -->\n<g id=\"edge8\" class=\"edge\">\n<title>134538695106208&#45;&gt;134538694210416+</title>\n<path fill=\"none\" stroke=\"black\" d=\"M821.4,-88.91C830.69,-90.5 839.64,-92.04 847.71,-93.43\"/>\n<polygon fill=\"black\" stroke=\"black\" points=\"847.32,-96.91 857.76,-95.16 848.5,-90.02 847.32,-96.91\"/>\n</g>\n<!-- 134538695106208+&#45;&gt;134538695106208 -->\n<g id=\"edge1\" class=\"edge\">\n<title>134538695106208+&#45;&gt;134538695106208</title>\n<path fill=\"none\" stroke=\"black\" d=\"M593.28,-72.5C600.78,-72.5 609.44,-72.5 618.67,-72.5\"/>\n<polygon fill=\"black\" stroke=\"black\" points=\"618.87,-76 628.87,-72.5 618.87,-69 618.87,-76\"/>\n</g>\n<!-- 134538692885184 -->\n<g id=\"node5\" class=\"node\">\n<title>134538692885184</title>\n<polygon fill=\"none\" stroke=\"black\" points=\"0,-55.5 0,-91.5 185,-91.5 185,-55.5 0,-55.5\"/>\n<text text-anchor=\"middle\" x=\"11.5\" y=\"-69.8\" font-family=\"Times,serif\" font-size=\"14.00\">a</text>\n<polyline fill=\"none\" stroke=\"black\" points=\"23,-55.5 23,-91.5 \"/>\n<text text-anchor=\"middle\" x=\"63\" y=\"-69.8\" font-family=\"Times,serif\" font-size=\"14.00\">data 2.0000</text>\n<polyline fill=\"none\" stroke=\"black\" points=\"103,-55.5 103,-91.5 \"/>\n<text text-anchor=\"middle\" x=\"144\" y=\"-69.8\" font-family=\"Times,serif\" font-size=\"14.00\">grad 0.0000</text>\n</g>\n<!-- 134538695111440+ -->\n<g id=\"node7\" class=\"node\">\n<title>134538695111440+</title>\n<ellipse fill=\"none\" stroke=\"black\" cx=\"248\" cy=\"-45.5\" rx=\"27\" ry=\"18\"/>\n<text text-anchor=\"middle\" x=\"248\" y=\"-41.8\" font-family=\"Times,serif\" font-size=\"14.00\">+</text>\n</g>\n<!-- 134538692885184&#45;&gt;134538695111440+ -->\n<g id=\"edge9\" class=\"edge\">\n<title>134538692885184&#45;&gt;134538695111440+</title>\n<path fill=\"none\" stroke=\"black\" d=\"M185.01,-56.81C194.49,-55.08 203.66,-53.41 211.9,-51.9\"/>\n<polygon fill=\"black\" stroke=\"black\" points=\"212.6,-55.33 221.81,-50.09 211.35,-48.45 212.6,-55.33\"/>\n</g>\n<!-- 134538695111440 -->\n<g id=\"node6\" class=\"node\">\n<title>134538695111440</title>\n<polygon fill=\"none\" stroke=\"black\" points=\"314.5,-27.5 314.5,-63.5 499.5,-63.5 499.5,-27.5 314.5,-27.5\"/>\n<text text-anchor=\"middle\" x=\"326\" y=\"-41.8\" font-family=\"Times,serif\" font-size=\"14.00\">e</text>\n<polyline fill=\"none\" stroke=\"black\" points=\"337.5,-27.5 337.5,-63.5 \"/>\n<text text-anchor=\"middle\" x=\"377.5\" y=\"-41.8\" font-family=\"Times,serif\" font-size=\"14.00\">data 5.0000</text>\n<polyline fill=\"none\" stroke=\"black\" points=\"417.5,-27.5 417.5,-63.5 \"/>\n<text text-anchor=\"middle\" x=\"458.5\" y=\"-41.8\" font-family=\"Times,serif\" font-size=\"14.00\">grad 0.0000</text>\n</g>\n<!-- 134538695111440&#45;&gt;134538695106208+ -->\n<g id=\"edge7\" class=\"edge\">\n<title>134538695111440&#45;&gt;134538695106208+</title>\n<path fill=\"none\" stroke=\"black\" d=\"M499.78,-61.28C510.3,-63.09 520.48,-64.84 529.56,-66.4\"/>\n<polygon fill=\"black\" stroke=\"black\" points=\"529.21,-69.9 539.65,-68.14 530.39,-63 529.21,-69.9\"/>\n</g>\n<!-- 134538695111440+&#45;&gt;134538695111440 -->\n<g id=\"edge2\" class=\"edge\">\n<title>134538695111440+&#45;&gt;134538695111440</title>\n<path fill=\"none\" stroke=\"black\" d=\"M275.28,-45.5C283.68,-45.5 293.54,-45.5 304.02,-45.5\"/>\n<polygon fill=\"black\" stroke=\"black\" points=\"304.22,-49 314.22,-45.5 304.22,-42 304.22,-49\"/>\n</g>\n<!-- 134538692877600 -->\n<g id=\"node8\" class=\"node\">\n<title>134538692877600</title>\n<polygon fill=\"none\" stroke=\"black\" points=\"0,-0.5 0,-36.5 185,-36.5 185,-0.5 0,-0.5\"/>\n<text text-anchor=\"middle\" x=\"11.5\" y=\"-14.8\" font-family=\"Times,serif\" font-size=\"14.00\">b</text>\n<polyline fill=\"none\" stroke=\"black\" points=\"23,-0.5 23,-36.5 \"/>\n<text text-anchor=\"middle\" x=\"63\" y=\"-14.8\" font-family=\"Times,serif\" font-size=\"14.00\">data 3.0000</text>\n<polyline fill=\"none\" stroke=\"black\" points=\"103,-0.5 103,-36.5 \"/>\n<text text-anchor=\"middle\" x=\"144\" y=\"-14.8\" font-family=\"Times,serif\" font-size=\"14.00\">grad 0.0000</text>\n</g>\n<!-- 134538692877600&#45;&gt;134538695111440+ -->\n<g id=\"edge6\" class=\"edge\">\n<title>134538692877600&#45;&gt;134538695111440+</title>\n<path fill=\"none\" stroke=\"black\" d=\"M185.01,-34.6C194.49,-36.26 203.66,-37.88 211.9,-39.33\"/>\n<polygon fill=\"black\" stroke=\"black\" points=\"211.36,-42.78 221.81,-41.07 212.57,-35.89 211.36,-42.78\"/>\n</g>\n<!-- 134538694210416 -->\n<g id=\"node9\" class=\"node\">\n<title>134538694210416</title>\n<polygon fill=\"none\" stroke=\"black\" points=\"947,-81.5 947,-117.5 1141,-117.5 1141,-81.5 947,-81.5\"/>\n<text text-anchor=\"middle\" x=\"959.5\" y=\"-95.8\" font-family=\"Times,serif\" font-size=\"14.00\">L</text>\n<polyline fill=\"none\" stroke=\"black\" points=\"972,-81.5 972,-117.5 \"/>\n<text text-anchor=\"middle\" x=\"1015.5\" y=\"-95.8\" font-family=\"Times,serif\" font-size=\"14.00\">data 17.0000</text>\n<polyline fill=\"none\" stroke=\"black\" points=\"1059,-81.5 1059,-117.5 \"/>\n<text text-anchor=\"middle\" x=\"1100\" y=\"-95.8\" font-family=\"Times,serif\" font-size=\"14.00\">grad 0.0000</text>\n</g>\n<!-- 134538694210416+&#45;&gt;134538694210416 -->\n<g id=\"edge3\" class=\"edge\">\n<title>134538694210416+&#45;&gt;134538694210416</title>\n<path fill=\"none\" stroke=\"black\" d=\"M911.09,-99.5C918.62,-99.5 927.34,-99.5 936.63,-99.5\"/>\n<polygon fill=\"black\" stroke=\"black\" points=\"936.92,-103 946.92,-99.5 936.92,-96 936.92,-103\"/>\n</g>\n</g>\n</svg>\n",
            "text/plain": [
              "<graphviz.graphs.Digraph at 0x7a5cbafbce20>"
            ]
          },
          "metadata": {},
          "execution_count": 47
        }
      ]
    },
    {
      "cell_type": "code",
      "source": [
        "#manual backprop neuron method\n",
        "\n",
        "#inputs x1,x2\n",
        "\n",
        "x1= Value(4.0,label='x1')\n",
        "x2=Value(5.0,label='x2')\n",
        "\n",
        "#weights\n",
        "\n",
        "w1=Value(-3.0,label='w1')\n",
        "w2=Value(1.0,label='w2')\n",
        "\n",
        "b= Value(6.9,label='b')\n",
        "\n",
        "x1w1=x1*w1\n",
        "x1w1.label='x1w1'\n",
        "\n",
        "x2w2=x2*w2\n",
        "x2w2.label='x2w2'\n",
        "\n",
        "x1w1x2w2=x1w1+x2w2\n",
        "x1w1x2w2.label='x1w1+x2w2'\n",
        "\n",
        "n=x1w1x2w2 +b\n",
        "n.label='n'\n",
        "o=n.tanh()\n",
        "o.label='o'\n"
      ],
      "metadata": {
        "id": "hV24NhLRtjqP"
      },
      "execution_count": null,
      "outputs": []
    },
    {
      "cell_type": "code",
      "source": [
        "#calculating gradients of all nodes wrt to output o\n",
        "\n",
        "o.grad=1.0\n",
        "\n",
        "#o= tanh(n)\n",
        "# do/dn = 1-(tanh(n))**2 = 1-o**2\n"
      ],
      "metadata": {
        "id": "63ODYJ-AyI1b"
      },
      "execution_count": 66,
      "outputs": []
    },
    {
      "cell_type": "code",
      "source": [
        "1-o.data**2\n"
      ],
      "metadata": {
        "colab": {
          "base_uri": "https://localhost:8080/"
        },
        "id": "Zx6s4oIFzDfR",
        "outputId": "56d2fe30-4ebb-4c81-a6cf-78d2b8670770"
      },
      "execution_count": 63,
      "outputs": [
        {
          "output_type": "execute_result",
          "data": {
            "text/plain": [
              "0.9900662908474398"
            ]
          },
          "metadata": {},
          "execution_count": 63
        }
      ]
    },
    {
      "cell_type": "code",
      "source": [
        "n.grad=0.990066\n",
        "x1w1x2w2.grad=0.990066  # local derivative over plus operation acts as distributor over the nodes, in our case the child nodes multiply with 1 to give same gradient as n.grad\n",
        "b.grad=0.990066\n",
        "\n",
        "x1w1.grad=0.9901\n",
        "x2w2.grad=0.9901\n",
        "\n",
        "x2.grad= w2.data*x2w2.grad\n",
        "w2.grad=x2.data*x2w2.grad\n",
        "\n",
        "x1.grad=w1.data*x1w1.grad\n",
        "w1.grad=x1.data*x1w1.grad\n",
        "\n",
        "draw_dot(o)"
      ],
      "metadata": {
        "colab": {
          "base_uri": "https://localhost:8080/",
          "height": 322
        },
        "id": "bKrVKMEVzGNr",
        "outputId": "9292c434-7889-4de0-9c43-9b50e2536476"
      },
      "execution_count": 72,
      "outputs": [
        {
          "output_type": "execute_result",
          "data": {
            "image/svg+xml": "<?xml version=\"1.0\" encoding=\"UTF-8\" standalone=\"no\"?>\n<!DOCTYPE svg PUBLIC \"-//W3C//DTD SVG 1.1//EN\"\n \"http://www.w3.org/Graphics/SVG/1.1/DTD/svg11.dtd\">\n<!-- Generated by graphviz version 2.43.0 (0)\n -->\n<!-- Title: %3 Pages: 1 -->\n<svg width=\"1565pt\" height=\"210pt\"\n viewBox=\"0.00 0.00 1565.00 210.00\" xmlns=\"http://www.w3.org/2000/svg\" xmlns:xlink=\"http://www.w3.org/1999/xlink\">\n<g id=\"graph0\" class=\"graph\" transform=\"scale(1 1) rotate(0) translate(4 206)\">\n<title>%3</title>\n<polygon fill=\"white\" stroke=\"transparent\" points=\"-4,4 -4,-206 1561,-206 1561,4 -4,4\"/>\n<!-- 134538692643376 -->\n<g id=\"node1\" class=\"node\">\n<title>134538692643376</title>\n<polygon fill=\"none\" stroke=\"black\" points=\"2,-165.5 2,-201.5 198,-201.5 198,-165.5 2,-165.5\"/>\n<text text-anchor=\"middle\" x=\"17\" y=\"-179.8\" font-family=\"Times,serif\" font-size=\"14.00\">x1</text>\n<polyline fill=\"none\" stroke=\"black\" points=\"32,-165.5 32,-201.5 \"/>\n<text text-anchor=\"middle\" x=\"72\" y=\"-179.8\" font-family=\"Times,serif\" font-size=\"14.00\">data 4.0000</text>\n<polyline fill=\"none\" stroke=\"black\" points=\"112,-165.5 112,-201.5 \"/>\n<text text-anchor=\"middle\" x=\"155\" y=\"-179.8\" font-family=\"Times,serif\" font-size=\"14.00\">grad &#45;2.9703</text>\n</g>\n<!-- 134538692648416* -->\n<g id=\"node15\" class=\"node\">\n<title>134538692648416*</title>\n<ellipse fill=\"none\" stroke=\"black\" cx=\"263\" cy=\"-128.5\" rx=\"27\" ry=\"18\"/>\n<text text-anchor=\"middle\" x=\"263\" y=\"-124.8\" font-family=\"Times,serif\" font-size=\"14.00\">*</text>\n</g>\n<!-- 134538692643376&#45;&gt;134538692648416* -->\n<g id=\"edge8\" class=\"edge\">\n<title>134538692643376&#45;&gt;134538692648416*</title>\n<path fill=\"none\" stroke=\"black\" d=\"M172.53,-165.44C181.84,-162.67 191.2,-159.67 200,-156.5 210.53,-152.71 221.75,-147.9 231.72,-143.33\"/>\n<polygon fill=\"black\" stroke=\"black\" points=\"233.25,-146.48 240.82,-139.07 230.28,-140.14 233.25,-146.48\"/>\n</g>\n<!-- 134538692642368 -->\n<g id=\"node2\" class=\"node\">\n<title>134538692642368</title>\n<polygon fill=\"none\" stroke=\"black\" points=\"2.5,-55.5 2.5,-91.5 197.5,-91.5 197.5,-55.5 2.5,-55.5\"/>\n<text text-anchor=\"middle\" x=\"19\" y=\"-69.8\" font-family=\"Times,serif\" font-size=\"14.00\">w2</text>\n<polyline fill=\"none\" stroke=\"black\" points=\"35.5,-55.5 35.5,-91.5 \"/>\n<text text-anchor=\"middle\" x=\"75.5\" y=\"-69.8\" font-family=\"Times,serif\" font-size=\"14.00\">data 1.0000</text>\n<polyline fill=\"none\" stroke=\"black\" points=\"115.5,-55.5 115.5,-91.5 \"/>\n<text text-anchor=\"middle\" x=\"156.5\" y=\"-69.8\" font-family=\"Times,serif\" font-size=\"14.00\">grad 4.9505</text>\n</g>\n<!-- 134538692647120* -->\n<g id=\"node8\" class=\"node\">\n<title>134538692647120*</title>\n<ellipse fill=\"none\" stroke=\"black\" cx=\"263\" cy=\"-73.5\" rx=\"27\" ry=\"18\"/>\n<text text-anchor=\"middle\" x=\"263\" y=\"-69.8\" font-family=\"Times,serif\" font-size=\"14.00\">*</text>\n</g>\n<!-- 134538692642368&#45;&gt;134538692647120* -->\n<g id=\"edge11\" class=\"edge\">\n<title>134538692642368&#45;&gt;134538692647120*</title>\n<path fill=\"none\" stroke=\"black\" d=\"M197.91,-73.5C207.65,-73.5 217.05,-73.5 225.52,-73.5\"/>\n<polygon fill=\"black\" stroke=\"black\" points=\"225.7,-77 235.7,-73.5 225.7,-70 225.7,-77\"/>\n</g>\n<!-- 134538692643904 -->\n<g id=\"node3\" class=\"node\">\n<title>134538692643904</title>\n<polygon fill=\"none\" stroke=\"black\" points=\"706.5,-27.5 706.5,-63.5 891.5,-63.5 891.5,-27.5 706.5,-27.5\"/>\n<text text-anchor=\"middle\" x=\"718\" y=\"-41.8\" font-family=\"Times,serif\" font-size=\"14.00\">b</text>\n<polyline fill=\"none\" stroke=\"black\" points=\"729.5,-27.5 729.5,-63.5 \"/>\n<text text-anchor=\"middle\" x=\"769.5\" y=\"-41.8\" font-family=\"Times,serif\" font-size=\"14.00\">data 6.9000</text>\n<polyline fill=\"none\" stroke=\"black\" points=\"809.5,-27.5 809.5,-63.5 \"/>\n<text text-anchor=\"middle\" x=\"850.5\" y=\"-41.8\" font-family=\"Times,serif\" font-size=\"14.00\">grad 0.9901</text>\n</g>\n<!-- 134538692651344+ -->\n<g id=\"node13\" class=\"node\">\n<title>134538692651344+</title>\n<ellipse fill=\"none\" stroke=\"black\" cx=\"988\" cy=\"-72.5\" rx=\"27\" ry=\"18\"/>\n<text text-anchor=\"middle\" x=\"988\" y=\"-68.8\" font-family=\"Times,serif\" font-size=\"14.00\">+</text>\n</g>\n<!-- 134538692643904&#45;&gt;134538692651344+ -->\n<g id=\"edge6\" class=\"edge\">\n<title>134538692643904&#45;&gt;134538692651344+</title>\n<path fill=\"none\" stroke=\"black\" d=\"M891.58,-58.72C912.89,-61.8 934.32,-64.89 951.47,-67.37\"/>\n<polygon fill=\"black\" stroke=\"black\" points=\"951.15,-70.86 961.55,-68.82 952.15,-63.93 951.15,-70.86\"/>\n</g>\n<!-- 134538692644000 -->\n<g id=\"node4\" class=\"node\">\n<title>134538692644000</title>\n<polygon fill=\"none\" stroke=\"black\" points=\"4,-0.5 4,-36.5 196,-36.5 196,-0.5 4,-0.5\"/>\n<text text-anchor=\"middle\" x=\"19\" y=\"-14.8\" font-family=\"Times,serif\" font-size=\"14.00\">x2</text>\n<polyline fill=\"none\" stroke=\"black\" points=\"34,-0.5 34,-36.5 \"/>\n<text text-anchor=\"middle\" x=\"74\" y=\"-14.8\" font-family=\"Times,serif\" font-size=\"14.00\">data 5.0000</text>\n<polyline fill=\"none\" stroke=\"black\" points=\"114,-0.5 114,-36.5 \"/>\n<text text-anchor=\"middle\" x=\"155\" y=\"-14.8\" font-family=\"Times,serif\" font-size=\"14.00\">grad 0.9901</text>\n</g>\n<!-- 134538692644000&#45;&gt;134538692647120* -->\n<g id=\"edge10\" class=\"edge\">\n<title>134538692644000&#45;&gt;134538692647120*</title>\n<path fill=\"none\" stroke=\"black\" d=\"M169.28,-36.5C179.65,-39.61 190.16,-42.98 200,-46.5 210.28,-50.17 221.28,-54.74 231.11,-59.07\"/>\n<polygon fill=\"black\" stroke=\"black\" points=\"229.93,-62.37 240.48,-63.27 232.79,-55.99 229.93,-62.37\"/>\n</g>\n<!-- 134538692652736 -->\n<g id=\"node5\" class=\"node\">\n<title>134538692652736</title>\n<polygon fill=\"none\" stroke=\"black\" points=\"1367,-54.5 1367,-90.5 1557,-90.5 1557,-54.5 1367,-54.5\"/>\n<text text-anchor=\"middle\" x=\"1378.5\" y=\"-68.8\" font-family=\"Times,serif\" font-size=\"14.00\">o</text>\n<polyline fill=\"none\" stroke=\"black\" points=\"1390,-54.5 1390,-90.5 \"/>\n<text text-anchor=\"middle\" x=\"1432.5\" y=\"-68.8\" font-family=\"Times,serif\" font-size=\"14.00\">data &#45;0.0997</text>\n<polyline fill=\"none\" stroke=\"black\" points=\"1475,-54.5 1475,-90.5 \"/>\n<text text-anchor=\"middle\" x=\"1516\" y=\"-68.8\" font-family=\"Times,serif\" font-size=\"14.00\">grad 1.0000</text>\n</g>\n<!-- 134538692652736tanh -->\n<g id=\"node6\" class=\"node\">\n<title>134538692652736tanh</title>\n<ellipse fill=\"none\" stroke=\"black\" cx=\"1304\" cy=\"-72.5\" rx=\"27\" ry=\"18\"/>\n<text text-anchor=\"middle\" x=\"1304\" y=\"-68.8\" font-family=\"Times,serif\" font-size=\"14.00\">tanh</text>\n</g>\n<!-- 134538692652736tanh&#45;&gt;134538692652736 -->\n<g id=\"edge1\" class=\"edge\">\n<title>134538692652736tanh&#45;&gt;134538692652736</title>\n<path fill=\"none\" stroke=\"black\" d=\"M1331.11,-72.5C1338.63,-72.5 1347.32,-72.5 1356.58,-72.5\"/>\n<polygon fill=\"black\" stroke=\"black\" points=\"1356.81,-76 1366.81,-72.5 1356.81,-69 1356.81,-76\"/>\n</g>\n<!-- 134538692647120 -->\n<g id=\"node7\" class=\"node\">\n<title>134538692647120</title>\n<polygon fill=\"none\" stroke=\"black\" points=\"332,-55.5 332,-91.5 541,-91.5 541,-55.5 332,-55.5\"/>\n<text text-anchor=\"middle\" x=\"355.5\" y=\"-69.8\" font-family=\"Times,serif\" font-size=\"14.00\">x2w2</text>\n<polyline fill=\"none\" stroke=\"black\" points=\"379,-55.5 379,-91.5 \"/>\n<text text-anchor=\"middle\" x=\"419\" y=\"-69.8\" font-family=\"Times,serif\" font-size=\"14.00\">data 5.0000</text>\n<polyline fill=\"none\" stroke=\"black\" points=\"459,-55.5 459,-91.5 \"/>\n<text text-anchor=\"middle\" x=\"500\" y=\"-69.8\" font-family=\"Times,serif\" font-size=\"14.00\">grad 0.9901</text>\n</g>\n<!-- 134538692647696+ -->\n<g id=\"node11\" class=\"node\">\n<title>134538692647696+</title>\n<ellipse fill=\"none\" stroke=\"black\" cx=\"610\" cy=\"-100.5\" rx=\"27\" ry=\"18\"/>\n<text text-anchor=\"middle\" x=\"610\" y=\"-96.8\" font-family=\"Times,serif\" font-size=\"14.00\">+</text>\n</g>\n<!-- 134538692647120&#45;&gt;134538692647696+ -->\n<g id=\"edge13\" class=\"edge\">\n<title>134538692647120&#45;&gt;134538692647696+</title>\n<path fill=\"none\" stroke=\"black\" d=\"M541.22,-89.83C552.72,-91.64 563.77,-93.38 573.49,-94.91\"/>\n<polygon fill=\"black\" stroke=\"black\" points=\"573.05,-98.38 583.47,-96.48 574.14,-91.47 573.05,-98.38\"/>\n</g>\n<!-- 134538692647120*&#45;&gt;134538692647120 -->\n<g id=\"edge2\" class=\"edge\">\n<title>134538692647120*&#45;&gt;134538692647120</title>\n<path fill=\"none\" stroke=\"black\" d=\"M290.05,-73.5C299.2,-73.5 310.15,-73.5 321.88,-73.5\"/>\n<polygon fill=\"black\" stroke=\"black\" points=\"321.9,-77 331.9,-73.5 321.9,-70 321.9,-77\"/>\n</g>\n<!-- 134538692652256 -->\n<g id=\"node9\" class=\"node\">\n<title>134538692652256</title>\n<polygon fill=\"none\" stroke=\"black\" points=\"0,-110.5 0,-146.5 200,-146.5 200,-110.5 0,-110.5\"/>\n<text text-anchor=\"middle\" x=\"16.5\" y=\"-124.8\" font-family=\"Times,serif\" font-size=\"14.00\">w1</text>\n<polyline fill=\"none\" stroke=\"black\" points=\"33,-110.5 33,-146.5 \"/>\n<text text-anchor=\"middle\" x=\"75.5\" y=\"-124.8\" font-family=\"Times,serif\" font-size=\"14.00\">data &#45;3.0000</text>\n<polyline fill=\"none\" stroke=\"black\" points=\"118,-110.5 118,-146.5 \"/>\n<text text-anchor=\"middle\" x=\"159\" y=\"-124.8\" font-family=\"Times,serif\" font-size=\"14.00\">grad 3.9604</text>\n</g>\n<!-- 134538692652256&#45;&gt;134538692648416* -->\n<g id=\"edge9\" class=\"edge\">\n<title>134538692652256&#45;&gt;134538692648416*</title>\n<path fill=\"none\" stroke=\"black\" d=\"M200.21,-128.5C209.2,-128.5 217.86,-128.5 225.7,-128.5\"/>\n<polygon fill=\"black\" stroke=\"black\" points=\"225.85,-132 235.85,-128.5 225.85,-125 225.85,-132\"/>\n</g>\n<!-- 134538692647696 -->\n<g id=\"node10\" class=\"node\">\n<title>134538692647696</title>\n<polygon fill=\"none\" stroke=\"black\" points=\"673,-82.5 673,-118.5 925,-118.5 925,-82.5 673,-82.5\"/>\n<text text-anchor=\"middle\" x=\"715.5\" y=\"-96.8\" font-family=\"Times,serif\" font-size=\"14.00\">x1w1+x2w2</text>\n<polyline fill=\"none\" stroke=\"black\" points=\"758,-82.5 758,-118.5 \"/>\n<text text-anchor=\"middle\" x=\"800.5\" y=\"-96.8\" font-family=\"Times,serif\" font-size=\"14.00\">data &#45;7.0000</text>\n<polyline fill=\"none\" stroke=\"black\" points=\"843,-82.5 843,-118.5 \"/>\n<text text-anchor=\"middle\" x=\"884\" y=\"-96.8\" font-family=\"Times,serif\" font-size=\"14.00\">grad 0.9901</text>\n</g>\n<!-- 134538692647696&#45;&gt;134538692651344+ -->\n<g id=\"edge7\" class=\"edge\">\n<title>134538692647696&#45;&gt;134538692651344+</title>\n<path fill=\"none\" stroke=\"black\" d=\"M920.28,-82.49C931.51,-80.81 942.18,-79.21 951.56,-77.81\"/>\n<polygon fill=\"black\" stroke=\"black\" points=\"952.18,-81.25 961.56,-76.31 951.15,-74.33 952.18,-81.25\"/>\n</g>\n<!-- 134538692647696+&#45;&gt;134538692647696 -->\n<g id=\"edge3\" class=\"edge\">\n<title>134538692647696+&#45;&gt;134538692647696</title>\n<path fill=\"none\" stroke=\"black\" d=\"M637,-100.5C644.52,-100.5 653.3,-100.5 662.79,-100.5\"/>\n<polygon fill=\"black\" stroke=\"black\" points=\"662.92,-104 672.92,-100.5 662.92,-97 662.92,-104\"/>\n</g>\n<!-- 134538692651344 -->\n<g id=\"node12\" class=\"node\">\n<title>134538692651344</title>\n<polygon fill=\"none\" stroke=\"black\" points=\"1051,-54.5 1051,-90.5 1241,-90.5 1241,-54.5 1051,-54.5\"/>\n<text text-anchor=\"middle\" x=\"1062.5\" y=\"-68.8\" font-family=\"Times,serif\" font-size=\"14.00\">n</text>\n<polyline fill=\"none\" stroke=\"black\" points=\"1074,-54.5 1074,-90.5 \"/>\n<text text-anchor=\"middle\" x=\"1116.5\" y=\"-68.8\" font-family=\"Times,serif\" font-size=\"14.00\">data &#45;0.1000</text>\n<polyline fill=\"none\" stroke=\"black\" points=\"1159,-54.5 1159,-90.5 \"/>\n<text text-anchor=\"middle\" x=\"1200\" y=\"-68.8\" font-family=\"Times,serif\" font-size=\"14.00\">grad 0.9901</text>\n</g>\n<!-- 134538692651344&#45;&gt;134538692652736tanh -->\n<g id=\"edge14\" class=\"edge\">\n<title>134538692651344&#45;&gt;134538692652736tanh</title>\n<path fill=\"none\" stroke=\"black\" d=\"M1241.34,-72.5C1250.26,-72.5 1258.87,-72.5 1266.69,-72.5\"/>\n<polygon fill=\"black\" stroke=\"black\" points=\"1266.82,-76 1276.82,-72.5 1266.82,-69 1266.82,-76\"/>\n</g>\n<!-- 134538692651344+&#45;&gt;134538692651344 -->\n<g id=\"edge4\" class=\"edge\">\n<title>134538692651344+&#45;&gt;134538692651344</title>\n<path fill=\"none\" stroke=\"black\" d=\"M1015.11,-72.5C1022.63,-72.5 1031.32,-72.5 1040.58,-72.5\"/>\n<polygon fill=\"black\" stroke=\"black\" points=\"1040.81,-76 1050.81,-72.5 1040.81,-69 1040.81,-76\"/>\n</g>\n<!-- 134538692648416 -->\n<g id=\"node14\" class=\"node\">\n<title>134538692648416</title>\n<polygon fill=\"none\" stroke=\"black\" points=\"326,-110.5 326,-146.5 547,-146.5 547,-110.5 326,-110.5\"/>\n<text text-anchor=\"middle\" x=\"349.5\" y=\"-124.8\" font-family=\"Times,serif\" font-size=\"14.00\">x1w1</text>\n<polyline fill=\"none\" stroke=\"black\" points=\"373,-110.5 373,-146.5 \"/>\n<text text-anchor=\"middle\" x=\"419\" y=\"-124.8\" font-family=\"Times,serif\" font-size=\"14.00\">data &#45;12.0000</text>\n<polyline fill=\"none\" stroke=\"black\" points=\"465,-110.5 465,-146.5 \"/>\n<text text-anchor=\"middle\" x=\"506\" y=\"-124.8\" font-family=\"Times,serif\" font-size=\"14.00\">grad 0.9901</text>\n</g>\n<!-- 134538692648416&#45;&gt;134538692647696+ -->\n<g id=\"edge12\" class=\"edge\">\n<title>134538692648416&#45;&gt;134538692647696+</title>\n<path fill=\"none\" stroke=\"black\" d=\"M547.08,-110.61C556.49,-109.07 565.48,-107.61 573.54,-106.29\"/>\n<polygon fill=\"black\" stroke=\"black\" points=\"574.27,-109.72 583.58,-104.65 573.15,-102.81 574.27,-109.72\"/>\n</g>\n<!-- 134538692648416*&#45;&gt;134538692648416 -->\n<g id=\"edge5\" class=\"edge\">\n<title>134538692648416*&#45;&gt;134538692648416</title>\n<path fill=\"none\" stroke=\"black\" d=\"M290.05,-128.5C297.48,-128.5 306.1,-128.5 315.36,-128.5\"/>\n<polygon fill=\"black\" stroke=\"black\" points=\"315.64,-132 325.64,-128.5 315.64,-125 315.64,-132\"/>\n</g>\n</g>\n</svg>\n",
            "text/plain": [
              "<graphviz.graphs.Digraph at 0x7a5cbaff65c0>"
            ]
          },
          "metadata": {},
          "execution_count": 72
        }
      ]
    }
  ]
}